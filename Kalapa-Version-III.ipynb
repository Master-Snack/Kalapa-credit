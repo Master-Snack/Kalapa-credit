{
 "cells": [
  {
   "cell_type": "code",
   "execution_count": 1,
   "metadata": {
    "colab": {
     "base_uri": "https://localhost:8080/",
     "height": 71
    },
    "colab_type": "code",
    "executionInfo": {
     "elapsed": 2005,
     "status": "ok",
     "timestamp": 1598800074386,
     "user": {
      "displayName": "Phạm Trung Sơn",
      "photoUrl": "https://lh3.googleusercontent.com/a-/AOh14GhivTm8ZcFS0BQjWE0Qby3fHV5BvsKJbrV7y0AW=s64",
      "userId": "10175656038465513159"
     },
     "user_tz": -420
    },
    "id": "lfam0_zvwll4",
    "outputId": "9d715ac1-b8fc-4ea7-d22b-015bbdb7e69a"
   },
   "outputs": [],
   "source": [
    "import pandas as pd\n",
    "import numpy as np\n",
    "import matplotlib.pyplot as plt\n",
    "import seaborn as sns"
   ]
  },
  {
   "cell_type": "markdown",
   "metadata": {
    "colab_type": "text",
    "id": "DGXYYKIxy6K3"
   },
   "source": [
    "# 1. Reading data"
   ]
  },
  {
   "cell_type": "code",
   "execution_count": 3,
   "metadata": {
    "colab": {
     "base_uri": "https://localhost:8080/",
     "height": 105
    },
    "colab_type": "code",
    "executionInfo": {
     "elapsed": 3681,
     "status": "ok",
     "timestamp": 1598800076086,
     "user": {
      "displayName": "Phạm Trung Sơn",
      "photoUrl": "https://lh3.googleusercontent.com/a-/AOh14GhivTm8ZcFS0BQjWE0Qby3fHV5BvsKJbrV7y0AW=s64",
      "userId": "10175656038465513159"
     },
     "user_tz": -420
    },
    "id": "ybJwd17Dy-a4",
    "outputId": "afa4e3e4-60fb-4406-f263-a052891693f7"
   },
   "outputs": [
    {
     "name": "stderr",
     "output_type": "stream",
     "text": [
      "C:\\Users\\Ut Luom\\anaconda3\\lib\\site-packages\\IPython\\core\\interactiveshell.py:3063: DtypeWarning: Columns (35,43) have mixed types.Specify dtype option on import or set low_memory=False.\n",
      "  interactivity=interactivity, compiler=compiler, result=result)\n",
      "C:\\Users\\Ut Luom\\anaconda3\\lib\\site-packages\\IPython\\core\\interactiveshell.py:3063: DtypeWarning: Columns (34,42) have mixed types.Specify dtype option on import or set low_memory=False.\n",
      "  interactivity=interactivity, compiler=compiler, result=result)\n"
     ]
    }
   ],
   "source": [
    "df_train = pd.read_csv('data/train.csv')\n",
    "df_test = pd.read_csv('data/test.csv')\n",
    "df_submit = pd.read_csv('data/simple_submission.csv')"
   ]
  },
  {
   "cell_type": "code",
   "execution_count": 4,
   "metadata": {
    "colab": {},
    "colab_type": "code",
    "executionInfo": {
     "elapsed": 4168,
     "status": "ok",
     "timestamp": 1598800076589,
     "user": {
      "displayName": "Phạm Trung Sơn",
      "photoUrl": "https://lh3.googleusercontent.com/a-/AOh14GhivTm8ZcFS0BQjWE0Qby3fHV5BvsKJbrV7y0AW=s64",
      "userId": "10175656038465513159"
     },
     "user_tz": -420
    },
    "id": "7W4X-tNvzfAj"
   },
   "outputs": [],
   "source": [
    "c_train = df_train.copy()\n",
    "c_test = df_test.copy()\n",
    "\n",
    "c_train['train'] = 1\n",
    "c_test['train'] = 0\n",
    "index = df_test['id']\n",
    "df = pd.concat([c_train, c_test], axis=0, sort=False)"
   ]
  },
  {
   "cell_type": "markdown",
   "metadata": {
    "colab_type": "text",
    "id": "mhs4aSDG7CF-"
   },
   "source": [
    "# 2. pre-processing"
   ]
  },
  {
   "cell_type": "code",
   "execution_count": 5,
   "metadata": {
    "colab": {
     "base_uri": "https://localhost:8080/",
     "height": 54
    },
    "colab_type": "code",
    "executionInfo": {
     "elapsed": 4156,
     "status": "ok",
     "timestamp": 1598800076590,
     "user": {
      "displayName": "Phạm Trung Sơn",
      "photoUrl": "https://lh3.googleusercontent.com/a-/AOh14GhivTm8ZcFS0BQjWE0Qby3fHV5BvsKJbrV7y0AW=s64",
      "userId": "10175656038465513159"
     },
     "user_tz": -420
    },
    "id": "cqno40GP7HZJ",
    "outputId": "b82f5950-1256-41a5-b08a-34b1a45d4cb5"
   },
   "outputs": [
    {
     "name": "stdout",
     "output_type": "stream",
     "text": [
      "['id', 'label', 'Field_10', 'Field_13', 'Field_14', 'Field_16', 'Field_17', 'Field_19', 'Field_20', 'Field_21', 'Field_22', 'Field_23', 'Field_24', 'Field_26', 'Field_27', 'Field_28', 'Field_29', 'Field_30', 'Field_31', 'namSinh', 'Field_37', 'Field_39', 'Field_41', 'Field_42', 'Field_50', 'Field_51', 'Field_52', 'Field_53', 'Field_57', 'Field_58', 'Field_59', 'Field_60', 'Field_63', 'Field_64', 'Field_67', 'Field_69', 'Field_70', 'Field_71', 'Field_72', 'Field_73', 'Field_74', 'Field_75', 'Field_76', 'Field_77', 'friendCount', 'subscriberCount', 'currentLocationLocationId', 'currentLocationLatitude', 'currentLocationLongitude', 'homeTownLocationId', 'homeTownLatitude', 'homeTownLongitude', 'topFriends', 'numOrg', 'F_numOrg', 'F_numQuery', 'E_numOrg', 'E_numQuery', 'C_numOrg', 'C_numQuery', 'G_numOrg', 'G_numQuery', 'A_numOrg', 'A_numQuery', 'summary_6m', 'summary_3m', 'summary_1m', 'summary_1w', 'partner0_A', 'partner0_B', 'partner0_C', 'partner0_D', 'partner0_E', 'partner0_F', 'partner0_G', 'partner0_H', 'partner0_K', 'partner0_L', 'partner1_A', 'partner1_B', 'partner1_C', 'partner1_D', 'partner1_E', 'partner1_F', 'partner1_G', 'partner1_H', 'partner1_K', 'partner1_L', 'partner2_A', 'partner2_B', 'partner2_C', 'partner2_D', 'partner2_E', 'partner2_F', 'partner2_G', 'partner2_H', 'partner2_K', 'partner2_L', 'partner3_A', 'partner3_B', 'partner3_C', 'partner3_D', 'partner3_E', 'partner3_F', 'partner3_G', 'partner3_H', 'partner3_K', 'partner3_L', 'partner4_A', 'partner4_B', 'partner4_C', 'partner4_D', 'partner4_E', 'partner4_F', 'partner4_G', 'partner4_H', 'partner4_K', 'partner4_L', 'partner5_A', 'partner5_B', 'partner5_C', 'partner5_D', 'partner5_E', 'partner5_F', 'partner5_G', 'partner5_H', 'partner5_K', 'partner5_L', 'num_of_phone', 'Field_78', 'Field_79', 'Field_80', 'Field_81', 'Field_82', 'train']\n"
     ]
    }
   ],
   "source": [
    "time_field = [\n",
    "            'Field_1', 'Field_2', 'Field_3', 'Field_5', 'Field_6', 'Field_7','Field_8',\n",
    "            'Field_9', 'Field_11', 'Field_15', 'Field_25', 'Field_32', 'Field_33',\n",
    "            'Field_35', 'Field_40', 'Field_43', 'Field_44', 'ngaySinh',\n",
    "            'F_startDate', 'F_endDate', 'E_startDate', 'E_endDate', 'C_startDate',\n",
    "            'C_endDate', 'G_startDate', 'G_endDate', 'A_startDate', 'A_endDate'\n",
    "]\n",
    "\n",
    "cat_field = [\n",
    "            'Field_4',\n",
    "            'Field_18', 'Field_12', 'Field_34', 'Field_36', 'Field_38', 'Field_45', 'Field_46',\n",
    "            'Field_47', 'Field_48', 'Field_49', 'Field_54', 'Field_55', 'Field_56', 'Field_61', 'Field_62',\n",
    "            'Field_65', 'Field_66', 'Field_68', 'gioiTinh', 'diaChi', 'maCv', \n",
    "            'info_social_sex', 'data.basic_info.locale', 'currentLocationCity',\n",
    "            'currentLocationCountry', 'currentLocationName', 'currentLocationState',\n",
    "            'homeTownCity', 'homeTownCountry', 'homeTownName', 'homeTownState', 'brief'\n",
    "]\n",
    "\n",
    "num_field = [col for col in df.columns if col not in time_field+cat_field]\n",
    "print(num_field)"
   ]
  },
  {
   "cell_type": "code",
   "execution_count": 6,
   "metadata": {
    "colab": {},
    "colab_type": "code",
    "executionInfo": {
     "elapsed": 4144,
     "status": "ok",
     "timestamp": 1598800076593,
     "user": {
      "displayName": "Phạm Trung Sơn",
      "photoUrl": "https://lh3.googleusercontent.com/a-/AOh14GhivTm8ZcFS0BQjWE0Qby3fHV5BvsKJbrV7y0AW=s64",
      "userId": "10175656038465513159"
     },
     "user_tz": -420
    },
    "id": "VPswfvgsVCkr"
   },
   "outputs": [],
   "source": [
    "def get_unknown_category(df_train, df_test, cat=cat_field):\n",
    "    result = pd.DataFrame(columns=['Feature Name', 'Train Unique', 'Test Unique', 'Unknown Value'])\n",
    "    train_unique = df_train[cat].stack().reset_index(level=0, drop=True)\n",
    "    train_unique = train_unique.groupby(level=0).unique().reindex(index=df_train[cat].columns)\n",
    "    test_unique = df_test[cat].stack().reset_index(level=0, drop=True)\n",
    "    test_unique = test_unique.groupby(level=0).unique().reindex(index=df_test[cat].columns)\n",
    "    for index, feat in enumerate(cat):\n",
    "        a = test_unique.loc[feat]\n",
    "        u1 = train_unique.loc[feat]\n",
    "        u2 = test_unique.loc[feat]\n",
    "        unknown = np.where(~np.in1d(u2, u2))[0]\n",
    "        result.loc[index] = [feat, len(u1), len(u2), len(unknown)]\n",
    "    return result"
   ]
  },
  {
   "cell_type": "code",
   "execution_count": 7,
   "metadata": {
    "colab": {
     "base_uri": "https://localhost:8080/",
     "height": 1000
    },
    "colab_type": "code",
    "executionInfo": {
     "elapsed": 15731,
     "status": "ok",
     "timestamp": 1598800088192,
     "user": {
      "displayName": "Phạm Trung Sơn",
      "photoUrl": "https://lh3.googleusercontent.com/a-/AOh14GhivTm8ZcFS0BQjWE0Qby3fHV5BvsKJbrV7y0AW=s64",
      "userId": "10175656038465513159"
     },
     "user_tz": -420
    },
    "id": "9F23sQrFaeJV",
    "outputId": "452bb26e-abba-4833-acb7-f26fd01787e4"
   },
   "outputs": [
    {
     "data": {
      "text/html": [
       "<div>\n",
       "<style scoped>\n",
       "    .dataframe tbody tr th:only-of-type {\n",
       "        vertical-align: middle;\n",
       "    }\n",
       "\n",
       "    .dataframe tbody tr th {\n",
       "        vertical-align: top;\n",
       "    }\n",
       "\n",
       "    .dataframe thead th {\n",
       "        text-align: right;\n",
       "    }\n",
       "</style>\n",
       "<table border=\"1\" class=\"dataframe\">\n",
       "  <thead>\n",
       "    <tr style=\"text-align: right;\">\n",
       "      <th></th>\n",
       "      <th>Feature Name</th>\n",
       "      <th>Train Unique</th>\n",
       "      <th>Test Unique</th>\n",
       "      <th>Unknown Value</th>\n",
       "    </tr>\n",
       "  </thead>\n",
       "  <tbody>\n",
       "    <tr>\n",
       "      <th>0</th>\n",
       "      <td>Field_4</td>\n",
       "      <td>3</td>\n",
       "      <td>3</td>\n",
       "      <td>0</td>\n",
       "    </tr>\n",
       "    <tr>\n",
       "      <th>1</th>\n",
       "      <td>Field_18</td>\n",
       "      <td>6588</td>\n",
       "      <td>2660</td>\n",
       "      <td>0</td>\n",
       "    </tr>\n",
       "    <tr>\n",
       "      <th>2</th>\n",
       "      <td>Field_12</td>\n",
       "      <td>8</td>\n",
       "      <td>8</td>\n",
       "      <td>0</td>\n",
       "    </tr>\n",
       "    <tr>\n",
       "      <th>3</th>\n",
       "      <td>Field_34</td>\n",
       "      <td>2636</td>\n",
       "      <td>1908</td>\n",
       "      <td>0</td>\n",
       "    </tr>\n",
       "    <tr>\n",
       "      <th>4</th>\n",
       "      <td>Field_36</td>\n",
       "      <td>35</td>\n",
       "      <td>30</td>\n",
       "      <td>0</td>\n",
       "    </tr>\n",
       "    <tr>\n",
       "      <th>5</th>\n",
       "      <td>Field_38</td>\n",
       "      <td>7</td>\n",
       "      <td>6</td>\n",
       "      <td>0</td>\n",
       "    </tr>\n",
       "    <tr>\n",
       "      <th>6</th>\n",
       "      <td>Field_45</td>\n",
       "      <td>10958</td>\n",
       "      <td>5439</td>\n",
       "      <td>0</td>\n",
       "    </tr>\n",
       "    <tr>\n",
       "      <th>7</th>\n",
       "      <td>Field_46</td>\n",
       "      <td>14312</td>\n",
       "      <td>6553</td>\n",
       "      <td>0</td>\n",
       "    </tr>\n",
       "    <tr>\n",
       "      <th>8</th>\n",
       "      <td>Field_47</td>\n",
       "      <td>6</td>\n",
       "      <td>6</td>\n",
       "      <td>0</td>\n",
       "    </tr>\n",
       "    <tr>\n",
       "      <th>9</th>\n",
       "      <td>Field_48</td>\n",
       "      <td>12651</td>\n",
       "      <td>5901</td>\n",
       "      <td>0</td>\n",
       "    </tr>\n",
       "    <tr>\n",
       "      <th>10</th>\n",
       "      <td>Field_49</td>\n",
       "      <td>12819</td>\n",
       "      <td>5982</td>\n",
       "      <td>0</td>\n",
       "    </tr>\n",
       "    <tr>\n",
       "      <th>11</th>\n",
       "      <td>Field_54</td>\n",
       "      <td>45</td>\n",
       "      <td>37</td>\n",
       "      <td>0</td>\n",
       "    </tr>\n",
       "    <tr>\n",
       "      <th>12</th>\n",
       "      <td>Field_55</td>\n",
       "      <td>221</td>\n",
       "      <td>186</td>\n",
       "      <td>0</td>\n",
       "    </tr>\n",
       "    <tr>\n",
       "      <th>13</th>\n",
       "      <td>Field_56</td>\n",
       "      <td>1346</td>\n",
       "      <td>863</td>\n",
       "      <td>0</td>\n",
       "    </tr>\n",
       "    <tr>\n",
       "      <th>14</th>\n",
       "      <td>Field_61</td>\n",
       "      <td>36</td>\n",
       "      <td>33</td>\n",
       "      <td>0</td>\n",
       "    </tr>\n",
       "    <tr>\n",
       "      <th>15</th>\n",
       "      <td>Field_62</td>\n",
       "      <td>7</td>\n",
       "      <td>6</td>\n",
       "      <td>0</td>\n",
       "    </tr>\n",
       "    <tr>\n",
       "      <th>16</th>\n",
       "      <td>Field_65</td>\n",
       "      <td>11</td>\n",
       "      <td>10</td>\n",
       "      <td>0</td>\n",
       "    </tr>\n",
       "    <tr>\n",
       "      <th>17</th>\n",
       "      <td>Field_66</td>\n",
       "      <td>9</td>\n",
       "      <td>9</td>\n",
       "      <td>0</td>\n",
       "    </tr>\n",
       "    <tr>\n",
       "      <th>18</th>\n",
       "      <td>Field_68</td>\n",
       "      <td>10945</td>\n",
       "      <td>5061</td>\n",
       "      <td>0</td>\n",
       "    </tr>\n",
       "    <tr>\n",
       "      <th>19</th>\n",
       "      <td>gioiTinh</td>\n",
       "      <td>3</td>\n",
       "      <td>3</td>\n",
       "      <td>0</td>\n",
       "    </tr>\n",
       "    <tr>\n",
       "      <th>20</th>\n",
       "      <td>diaChi</td>\n",
       "      <td>21058</td>\n",
       "      <td>8388</td>\n",
       "      <td>0</td>\n",
       "    </tr>\n",
       "    <tr>\n",
       "      <th>21</th>\n",
       "      <td>maCv</td>\n",
       "      <td>3590</td>\n",
       "      <td>1579</td>\n",
       "      <td>0</td>\n",
       "    </tr>\n",
       "    <tr>\n",
       "      <th>22</th>\n",
       "      <td>info_social_sex</td>\n",
       "      <td>3</td>\n",
       "      <td>3</td>\n",
       "      <td>0</td>\n",
       "    </tr>\n",
       "    <tr>\n",
       "      <th>23</th>\n",
       "      <td>data.basic_info.locale</td>\n",
       "      <td>25</td>\n",
       "      <td>17</td>\n",
       "      <td>0</td>\n",
       "    </tr>\n",
       "    <tr>\n",
       "      <th>24</th>\n",
       "      <td>currentLocationCity</td>\n",
       "      <td>877</td>\n",
       "      <td>519</td>\n",
       "      <td>0</td>\n",
       "    </tr>\n",
       "    <tr>\n",
       "      <th>25</th>\n",
       "      <td>currentLocationCountry</td>\n",
       "      <td>49</td>\n",
       "      <td>29</td>\n",
       "      <td>0</td>\n",
       "    </tr>\n",
       "    <tr>\n",
       "      <th>26</th>\n",
       "      <td>currentLocationName</td>\n",
       "      <td>1088</td>\n",
       "      <td>658</td>\n",
       "      <td>0</td>\n",
       "    </tr>\n",
       "    <tr>\n",
       "      <th>27</th>\n",
       "      <td>currentLocationState</td>\n",
       "      <td>202</td>\n",
       "      <td>130</td>\n",
       "      <td>0</td>\n",
       "    </tr>\n",
       "    <tr>\n",
       "      <th>28</th>\n",
       "      <td>homeTownCity</td>\n",
       "      <td>887</td>\n",
       "      <td>641</td>\n",
       "      <td>0</td>\n",
       "    </tr>\n",
       "    <tr>\n",
       "      <th>29</th>\n",
       "      <td>homeTownCountry</td>\n",
       "      <td>39</td>\n",
       "      <td>28</td>\n",
       "      <td>0</td>\n",
       "    </tr>\n",
       "    <tr>\n",
       "      <th>30</th>\n",
       "      <td>homeTownName</td>\n",
       "      <td>1134</td>\n",
       "      <td>801</td>\n",
       "      <td>0</td>\n",
       "    </tr>\n",
       "    <tr>\n",
       "      <th>31</th>\n",
       "      <td>homeTownState</td>\n",
       "      <td>149</td>\n",
       "      <td>106</td>\n",
       "      <td>0</td>\n",
       "    </tr>\n",
       "    <tr>\n",
       "      <th>32</th>\n",
       "      <td>brief</td>\n",
       "      <td>21</td>\n",
       "      <td>21</td>\n",
       "      <td>0</td>\n",
       "    </tr>\n",
       "  </tbody>\n",
       "</table>\n",
       "</div>"
      ],
      "text/plain": [
       "              Feature Name Train Unique Test Unique Unknown Value\n",
       "0                  Field_4            3           3             0\n",
       "1                 Field_18         6588        2660             0\n",
       "2                 Field_12            8           8             0\n",
       "3                 Field_34         2636        1908             0\n",
       "4                 Field_36           35          30             0\n",
       "5                 Field_38            7           6             0\n",
       "6                 Field_45        10958        5439             0\n",
       "7                 Field_46        14312        6553             0\n",
       "8                 Field_47            6           6             0\n",
       "9                 Field_48        12651        5901             0\n",
       "10                Field_49        12819        5982             0\n",
       "11                Field_54           45          37             0\n",
       "12                Field_55          221         186             0\n",
       "13                Field_56         1346         863             0\n",
       "14                Field_61           36          33             0\n",
       "15                Field_62            7           6             0\n",
       "16                Field_65           11          10             0\n",
       "17                Field_66            9           9             0\n",
       "18                Field_68        10945        5061             0\n",
       "19                gioiTinh            3           3             0\n",
       "20                  diaChi        21058        8388             0\n",
       "21                    maCv         3590        1579             0\n",
       "22         info_social_sex            3           3             0\n",
       "23  data.basic_info.locale           25          17             0\n",
       "24     currentLocationCity          877         519             0\n",
       "25  currentLocationCountry           49          29             0\n",
       "26     currentLocationName         1088         658             0\n",
       "27    currentLocationState          202         130             0\n",
       "28            homeTownCity          887         641             0\n",
       "29         homeTownCountry           39          28             0\n",
       "30            homeTownName         1134         801             0\n",
       "31           homeTownState          149         106             0\n",
       "32                   brief           21          21             0"
      ]
     },
     "execution_count": 7,
     "metadata": {},
     "output_type": "execute_result"
    }
   ],
   "source": [
    "result = get_unknown_category(df_train.astype(str), df_test.astype(str))\n",
    "result"
   ]
  },
  {
   "cell_type": "code",
   "execution_count": 8,
   "metadata": {
    "colab": {
     "base_uri": "https://localhost:8080/",
     "height": 419
    },
    "colab_type": "code",
    "executionInfo": {
     "elapsed": 17164,
     "status": "ok",
     "timestamp": 1598800089641,
     "user": {
      "displayName": "Phạm Trung Sơn",
      "photoUrl": "https://lh3.googleusercontent.com/a-/AOh14GhivTm8ZcFS0BQjWE0Qby3fHV5BvsKJbrV7y0AW=s64",
      "userId": "10175656038465513159"
     },
     "user_tz": -420
    },
    "id": "IMT55uG2Rtom",
    "outputId": "262b08c6-d943-4777-922e-e4ba0287f5cf"
   },
   "outputs": [
    {
     "data": {
      "text/html": [
       "<div>\n",
       "<style scoped>\n",
       "    .dataframe tbody tr th:only-of-type {\n",
       "        vertical-align: middle;\n",
       "    }\n",
       "\n",
       "    .dataframe tbody tr th {\n",
       "        vertical-align: top;\n",
       "    }\n",
       "\n",
       "    .dataframe thead th {\n",
       "        text-align: right;\n",
       "    }\n",
       "</style>\n",
       "<table border=\"1\" class=\"dataframe\">\n",
       "  <thead>\n",
       "    <tr style=\"text-align: right;\">\n",
       "      <th></th>\n",
       "      <th>count</th>\n",
       "      <th>unique</th>\n",
       "      <th>top</th>\n",
       "      <th>freq</th>\n",
       "      <th>mean</th>\n",
       "      <th>std</th>\n",
       "      <th>min</th>\n",
       "      <th>25%</th>\n",
       "      <th>50%</th>\n",
       "      <th>75%</th>\n",
       "      <th>max</th>\n",
       "    </tr>\n",
       "  </thead>\n",
       "  <tbody>\n",
       "    <tr>\n",
       "      <th>id</th>\n",
       "      <td>73411</td>\n",
       "      <td>NaN</td>\n",
       "      <td>NaN</td>\n",
       "      <td>NaN</td>\n",
       "      <td>36705</td>\n",
       "      <td>21192.1</td>\n",
       "      <td>0</td>\n",
       "      <td>18352.5</td>\n",
       "      <td>36705</td>\n",
       "      <td>55057.5</td>\n",
       "      <td>73410</td>\n",
       "    </tr>\n",
       "    <tr>\n",
       "      <th>label</th>\n",
       "      <td>53030</td>\n",
       "      <td>NaN</td>\n",
       "      <td>NaN</td>\n",
       "      <td>NaN</td>\n",
       "      <td>0.316726</td>\n",
       "      <td>0.465204</td>\n",
       "      <td>0</td>\n",
       "      <td>0</td>\n",
       "      <td>0</td>\n",
       "      <td>1</td>\n",
       "      <td>1</td>\n",
       "    </tr>\n",
       "    <tr>\n",
       "      <th>Field_1</th>\n",
       "      <td>34624</td>\n",
       "      <td>28806</td>\n",
       "      <td>2017-03-24T20:10:37.62Z</td>\n",
       "      <td>343</td>\n",
       "      <td>NaN</td>\n",
       "      <td>NaN</td>\n",
       "      <td>NaN</td>\n",
       "      <td>NaN</td>\n",
       "      <td>NaN</td>\n",
       "      <td>NaN</td>\n",
       "      <td>NaN</td>\n",
       "    </tr>\n",
       "    <tr>\n",
       "      <th>Field_2</th>\n",
       "      <td>34624</td>\n",
       "      <td>24268</td>\n",
       "      <td>2017-03-24T20:10:37.62Z</td>\n",
       "      <td>338</td>\n",
       "      <td>NaN</td>\n",
       "      <td>NaN</td>\n",
       "      <td>NaN</td>\n",
       "      <td>NaN</td>\n",
       "      <td>NaN</td>\n",
       "      <td>NaN</td>\n",
       "      <td>NaN</td>\n",
       "    </tr>\n",
       "    <tr>\n",
       "      <th>Field_3</th>\n",
       "      <td>34624</td>\n",
       "      <td>NaN</td>\n",
       "      <td>NaN</td>\n",
       "      <td>NaN</td>\n",
       "      <td>1.53596</td>\n",
       "      <td>0.498713</td>\n",
       "      <td>1</td>\n",
       "      <td>1</td>\n",
       "      <td>2</td>\n",
       "      <td>2</td>\n",
       "      <td>2</td>\n",
       "    </tr>\n",
       "    <tr>\n",
       "      <th>...</th>\n",
       "      <td>...</td>\n",
       "      <td>...</td>\n",
       "      <td>...</td>\n",
       "      <td>...</td>\n",
       "      <td>...</td>\n",
       "      <td>...</td>\n",
       "      <td>...</td>\n",
       "      <td>...</td>\n",
       "      <td>...</td>\n",
       "      <td>...</td>\n",
       "      <td>...</td>\n",
       "    </tr>\n",
       "    <tr>\n",
       "      <th>Field_79</th>\n",
       "      <td>38533</td>\n",
       "      <td>NaN</td>\n",
       "      <td>NaN</td>\n",
       "      <td>NaN</td>\n",
       "      <td>34.6264</td>\n",
       "      <td>40.1541</td>\n",
       "      <td>0</td>\n",
       "      <td>5.65685</td>\n",
       "      <td>17.0392</td>\n",
       "      <td>52.3068</td>\n",
       "      <td>359.917</td>\n",
       "    </tr>\n",
       "    <tr>\n",
       "      <th>Field_80</th>\n",
       "      <td>49880</td>\n",
       "      <td>NaN</td>\n",
       "      <td>NaN</td>\n",
       "      <td>NaN</td>\n",
       "      <td>-4.83718</td>\n",
       "      <td>36.4411</td>\n",
       "      <td>-303</td>\n",
       "      <td>-8.33929</td>\n",
       "      <td>1.55</td>\n",
       "      <td>8.5</td>\n",
       "      <td>238</td>\n",
       "    </tr>\n",
       "    <tr>\n",
       "      <th>Field_81</th>\n",
       "      <td>49450</td>\n",
       "      <td>NaN</td>\n",
       "      <td>NaN</td>\n",
       "      <td>NaN</td>\n",
       "      <td>-39.8967</td>\n",
       "      <td>70.9605</td>\n",
       "      <td>-332</td>\n",
       "      <td>-89</td>\n",
       "      <td>0</td>\n",
       "      <td>1</td>\n",
       "      <td>238</td>\n",
       "    </tr>\n",
       "    <tr>\n",
       "      <th>Field_82</th>\n",
       "      <td>73411</td>\n",
       "      <td>NaN</td>\n",
       "      <td>NaN</td>\n",
       "      <td>NaN</td>\n",
       "      <td>1.6965</td>\n",
       "      <td>1.09638</td>\n",
       "      <td>1</td>\n",
       "      <td>1</td>\n",
       "      <td>1</td>\n",
       "      <td>2</td>\n",
       "      <td>4</td>\n",
       "    </tr>\n",
       "    <tr>\n",
       "      <th>train</th>\n",
       "      <td>73411</td>\n",
       "      <td>NaN</td>\n",
       "      <td>NaN</td>\n",
       "      <td>NaN</td>\n",
       "      <td>0.722371</td>\n",
       "      <td>0.447832</td>\n",
       "      <td>0</td>\n",
       "      <td>0</td>\n",
       "      <td>1</td>\n",
       "      <td>1</td>\n",
       "      <td>1</td>\n",
       "    </tr>\n",
       "  </tbody>\n",
       "</table>\n",
       "<p>196 rows × 11 columns</p>\n",
       "</div>"
      ],
      "text/plain": [
       "          count unique                      top freq      mean       std  min  \\\n",
       "id        73411    NaN                      NaN  NaN     36705   21192.1    0   \n",
       "label     53030    NaN                      NaN  NaN  0.316726  0.465204    0   \n",
       "Field_1   34624  28806  2017-03-24T20:10:37.62Z  343       NaN       NaN  NaN   \n",
       "Field_2   34624  24268  2017-03-24T20:10:37.62Z  338       NaN       NaN  NaN   \n",
       "Field_3   34624    NaN                      NaN  NaN   1.53596  0.498713    1   \n",
       "...         ...    ...                      ...  ...       ...       ...  ...   \n",
       "Field_79  38533    NaN                      NaN  NaN   34.6264   40.1541    0   \n",
       "Field_80  49880    NaN                      NaN  NaN  -4.83718   36.4411 -303   \n",
       "Field_81  49450    NaN                      NaN  NaN  -39.8967   70.9605 -332   \n",
       "Field_82  73411    NaN                      NaN  NaN    1.6965   1.09638    1   \n",
       "train     73411    NaN                      NaN  NaN  0.722371  0.447832    0   \n",
       "\n",
       "              25%      50%      75%      max  \n",
       "id        18352.5    36705  55057.5    73410  \n",
       "label           0        0        1        1  \n",
       "Field_1       NaN      NaN      NaN      NaN  \n",
       "Field_2       NaN      NaN      NaN      NaN  \n",
       "Field_3         1        2        2        2  \n",
       "...           ...      ...      ...      ...  \n",
       "Field_79  5.65685  17.0392  52.3068  359.917  \n",
       "Field_80 -8.33929     1.55      8.5      238  \n",
       "Field_81      -89        0        1      238  \n",
       "Field_82        1        1        2        4  \n",
       "train           0        1        1        1  \n",
       "\n",
       "[196 rows x 11 columns]"
      ]
     },
     "execution_count": 8,
     "metadata": {},
     "output_type": "execute_result"
    }
   ],
   "source": [
    "df.describe(include='all').T"
   ]
  },
  {
   "cell_type": "markdown",
   "metadata": {
    "colab_type": "text",
    "id": "-ybhxWnfmb0U"
   },
   "source": [
    "## 2.1. Missing Values"
   ]
  },
  {
   "cell_type": "code",
   "execution_count": 9,
   "metadata": {
    "colab": {},
    "colab_type": "code",
    "executionInfo": {
     "elapsed": 17153,
     "status": "ok",
     "timestamp": 1598800089643,
     "user": {
      "displayName": "Phạm Trung Sơn",
      "photoUrl": "https://lh3.googleusercontent.com/a-/AOh14GhivTm8ZcFS0BQjWE0Qby3fHV5BvsKJbrV7y0AW=s64",
      "userId": "10175656038465513159"
     },
     "user_tz": -420
    },
    "id": "pIdF5ZdxmaQc"
   },
   "outputs": [],
   "source": [
    "def missing_value(df):\n",
    "    mis_val = df.isnull().sum()\n",
    "    mis_val_per = 100 * df.isnull().sum() / len(df)\n",
    "    mis_val_tab = pd.concat([mis_val, mis_val_per], axis=1)\n",
    "    mis_val_re  = mis_val_tab.rename(columns={\n",
    "        0: 'Miss',\n",
    "        1: 'Per'\n",
    "    })\n",
    "    mis_val_re = mis_val_re[mis_val_re.iloc[:, 1] !=0].sort_values('Per', ascending=False).round(1)\n",
    "    print(\"Có tất cả \" + str(df.shape[1]) + \" cột.\\n\"\n",
    "          \"Trog đó có \" + str(mis_val_re.shape[0]) + \" cột bị thiếu data\")\n",
    "    return mis_val_re"
   ]
  },
  {
   "cell_type": "code",
   "execution_count": 10,
   "metadata": {
    "colab": {
     "base_uri": "https://localhost:8080/",
     "height": 453
    },
    "colab_type": "code",
    "executionInfo": {
     "elapsed": 17845,
     "status": "ok",
     "timestamp": 1598800090347,
     "user": {
      "displayName": "Phạm Trung Sơn",
      "photoUrl": "https://lh3.googleusercontent.com/a-/AOh14GhivTm8ZcFS0BQjWE0Qby3fHV5BvsKJbrV7y0AW=s64",
      "userId": "10175656038465513159"
     },
     "user_tz": -420
    },
    "id": "YPnwt_QJrCY9",
    "outputId": "b1c2302b-f6b1-4f80-b555-3bb56f5a7ddd"
   },
   "outputs": [
    {
     "name": "stdout",
     "output_type": "stream",
     "text": [
      "Có tất cả 196 cột.\n",
      "Trog đó có 193 cột bị thiếu data\n"
     ]
    },
    {
     "data": {
      "text/html": [
       "<div>\n",
       "<style scoped>\n",
       "    .dataframe tbody tr th:only-of-type {\n",
       "        vertical-align: middle;\n",
       "    }\n",
       "\n",
       "    .dataframe tbody tr th {\n",
       "        vertical-align: top;\n",
       "    }\n",
       "\n",
       "    .dataframe thead th {\n",
       "        text-align: right;\n",
       "    }\n",
       "</style>\n",
       "<table border=\"1\" class=\"dataframe\">\n",
       "  <thead>\n",
       "    <tr style=\"text-align: right;\">\n",
       "      <th></th>\n",
       "      <th>Miss</th>\n",
       "      <th>Per</th>\n",
       "    </tr>\n",
       "  </thead>\n",
       "  <tbody>\n",
       "    <tr>\n",
       "      <th>Field_35</th>\n",
       "      <td>64202</td>\n",
       "      <td>87.5</td>\n",
       "    </tr>\n",
       "    <tr>\n",
       "      <th>Field_12</th>\n",
       "      <td>63489</td>\n",
       "      <td>86.5</td>\n",
       "    </tr>\n",
       "    <tr>\n",
       "      <th>Field_11</th>\n",
       "      <td>63438</td>\n",
       "      <td>86.4</td>\n",
       "    </tr>\n",
       "    <tr>\n",
       "      <th>Field_18</th>\n",
       "      <td>62005</td>\n",
       "      <td>84.5</td>\n",
       "    </tr>\n",
       "    <tr>\n",
       "      <th>maCv</th>\n",
       "      <td>61029</td>\n",
       "      <td>83.1</td>\n",
       "    </tr>\n",
       "    <tr>\n",
       "      <th>...</th>\n",
       "      <td>...</td>\n",
       "      <td>...</td>\n",
       "    </tr>\n",
       "    <tr>\n",
       "      <th>partner1_L</th>\n",
       "      <td>7395</td>\n",
       "      <td>10.1</td>\n",
       "    </tr>\n",
       "    <tr>\n",
       "      <th>partner1_K</th>\n",
       "      <td>7395</td>\n",
       "      <td>10.1</td>\n",
       "    </tr>\n",
       "    <tr>\n",
       "      <th>partner3_A</th>\n",
       "      <td>7395</td>\n",
       "      <td>10.1</td>\n",
       "    </tr>\n",
       "    <tr>\n",
       "      <th>num_of_phone</th>\n",
       "      <td>3200</td>\n",
       "      <td>4.4</td>\n",
       "    </tr>\n",
       "    <tr>\n",
       "      <th>brief</th>\n",
       "      <td>3076</td>\n",
       "      <td>4.2</td>\n",
       "    </tr>\n",
       "  </tbody>\n",
       "</table>\n",
       "<p>193 rows × 2 columns</p>\n",
       "</div>"
      ],
      "text/plain": [
       "               Miss   Per\n",
       "Field_35      64202  87.5\n",
       "Field_12      63489  86.5\n",
       "Field_11      63438  86.4\n",
       "Field_18      62005  84.5\n",
       "maCv          61029  83.1\n",
       "...             ...   ...\n",
       "partner1_L     7395  10.1\n",
       "partner1_K     7395  10.1\n",
       "partner3_A     7395  10.1\n",
       "num_of_phone   3200   4.4\n",
       "brief          3076   4.2\n",
       "\n",
       "[193 rows x 2 columns]"
      ]
     },
     "execution_count": 10,
     "metadata": {},
     "output_type": "execute_result"
    }
   ],
   "source": [
    "missing = missing_value(df)\n",
    "missing"
   ]
  },
  {
   "cell_type": "code",
   "execution_count": 11,
   "metadata": {
    "colab": {
     "base_uri": "https://localhost:8080/",
     "height": 68
    },
    "colab_type": "code",
    "executionInfo": {
     "elapsed": 17831,
     "status": "ok",
     "timestamp": 1598800090349,
     "user": {
      "displayName": "Phạm Trung Sơn",
      "photoUrl": "https://lh3.googleusercontent.com/a-/AOh14GhivTm8ZcFS0BQjWE0Qby3fHV5BvsKJbrV7y0AW=s64",
      "userId": "10175656038465513159"
     },
     "user_tz": -420
    },
    "id": "e3SeDJlvbHPZ",
    "outputId": "8a578aa1-e70a-4bf3-c32f-7db5d1a4e205"
   },
   "outputs": [
    {
     "name": "stdout",
     "output_type": "stream",
     "text": [
      "0.0    36234\n",
      "1.0    16796\n",
      "Name: label, dtype: int64\n"
     ]
    }
   ],
   "source": [
    "print(df['label'].value_counts())"
   ]
  },
  {
   "cell_type": "code",
   "execution_count": 12,
   "metadata": {
    "colab": {},
    "colab_type": "code",
    "executionInfo": {
     "elapsed": 18407,
     "status": "ok",
     "timestamp": 1598800090942,
     "user": {
      "displayName": "Phạm Trung Sơn",
      "photoUrl": "https://lh3.googleusercontent.com/a-/AOh14GhivTm8ZcFS0BQjWE0Qby3fHV5BvsKJbrV7y0AW=s64",
      "userId": "10175656038465513159"
     },
     "user_tz": -420
    },
    "id": "41UW1aF1bfoV"
   },
   "outputs": [],
   "source": [
    "def infomation(df):\n",
    "    x, y = df\n",
    "    if x != x and y != y:\n",
    "        return 'nan'\n",
    "    if x != x:\n",
    "        return y.lower()\n",
    "    return x.lower()\n",
    "\n",
    "df[\"sex\"] = df[['gioiTinh', 'info_social_sex']].apply(infomation, axis=1).astype('object')\n",
    "\n",
    "drop = ['Field_14', 'Field_16', 'Field_17', 'Field_24', 'Field_26', 'Field_30', 'Field_31', 'Field_37', 'Field_52',\n",
    "        'Field_57', 'partner0_B', 'partner0_K', 'partner0_L', 'partner1_B', 'partner1_D', 'partner1_E', 'partner1_F',\n",
    "        'partner1_K', 'partner1_L', 'partner2_B', 'partner2_G', 'partner2_K', 'partner2_L', 'partner3_B', 'partner3_F',\n",
    "        'partner3_G', 'partner3_H', 'partner3_K', 'partner3_L', 'partner4_A', 'partner4_B', 'partner4_C', 'partner4_D',\n",
    "        'partner4_E', 'partner4_F', 'partner4_G', 'partner4_H', 'partner4_K', 'partner4_L', 'partner5_B', 'partner5_C',\n",
    "        'partner5_H', 'partner5_K', 'partner5_L', 'Field_34', 'gioiTinh', 'info_social_sex', 'data.basic_info.locale', 'homeTownCountry',\n",
    "        'Field_2', 'Field_5', 'Field_49', 'Field_9', 'ngaySinh', 'namSinh', 'Field_10', 'Field_13', 'Field_21', \n",
    "        'Field_22', 'Field_38','Field_41', 'Field_42','Field_50', 'Field_53', 'Field_62', 'currentLocationLongitude', 'homeTownLongitude',\n",
    "        'E_numQuery', 'C_numOrg', 'C_numQuery', 'G_numQuery', 'A_numQuery', 'summary_6m',\n",
    "        'summary_3m', 'summary_1m', 'summary_1w', 'partner0_C', 'partner0_D', 'partner0_E',\n",
    "        'partner0_F', 'partner0_H', 'partner1_C', 'partner1_G', 'partner1_H', 'partner2_A',\n",
    "        'partner2_C', 'partner2_D', 'partner2_E', 'partner2_H', 'partner3_C', 'partner3_E',\n",
    "        'partner5_D', 'partner5_E', 'partner5_F', 'partner5_G', 'num_of_phone',\n",
    "        'Field_51', 'Field_73','partner2_F', 'Field_35', 'Field_11', 'Field_15',\n",
    "        'Field_1', 'Field_6', 'Field_7', 'Field_8', 'Field_25', \n",
    "        'Field_33', 'Field_40', 'Field_43', 'Field_44', 'Field_18',\n",
    "        'F_startDate', 'F_endDate', 'E_startDate', 'E_endDate', 'C_startDate', 'C_endDate', 'G_startDate',\n",
    "        'G_endDate', 'A_startDate', 'A_endDate','Field_4', 'Field_12', 'Field_45', 'Field_36', 'Field_54', 'Field_55', 'Field_66', \n",
    "        'Field_68', 'currentLocationState', 'homeTownCity', 'homeTownName', 'homeTownState', 'Field_32']\n",
    "\n",
    "df = df.drop(drop, axis=1)"
   ]
  },
  {
   "cell_type": "code",
   "execution_count": 13,
   "metadata": {
    "colab": {
     "base_uri": "https://localhost:8080/",
     "height": 34
    },
    "colab_type": "code",
    "executionInfo": {
     "elapsed": 18398,
     "status": "ok",
     "timestamp": 1598800090944,
     "user": {
      "displayName": "Phạm Trung Sơn",
      "photoUrl": "https://lh3.googleusercontent.com/a-/AOh14GhivTm8ZcFS0BQjWE0Qby3fHV5BvsKJbrV7y0AW=s64",
      "userId": "10175656038465513159"
     },
     "user_tz": -420
    },
    "id": "n6OKwHqJbnbM",
    "outputId": "2fe3190d-cad5-4a2a-ae78-3878c981ca5c"
   },
   "outputs": [
    {
     "data": {
      "text/plain": [
       "(73411, 62)"
      ]
     },
     "execution_count": 13,
     "metadata": {},
     "output_type": "execute_result"
    }
   ],
   "source": [
    "df.shape"
   ]
  },
  {
   "cell_type": "code",
   "execution_count": 14,
   "metadata": {
    "colab": {
     "base_uri": "https://localhost:8080/",
     "height": 238
    },
    "colab_type": "code",
    "executionInfo": {
     "elapsed": 18385,
     "status": "ok",
     "timestamp": 1598800090947,
     "user": {
      "displayName": "Phạm Trung Sơn",
      "photoUrl": "https://lh3.googleusercontent.com/a-/AOh14GhivTm8ZcFS0BQjWE0Qby3fHV5BvsKJbrV7y0AW=s64",
      "userId": "10175656038465513159"
     },
     "user_tz": -420
    },
    "id": "Regwqqn2c6W-",
    "outputId": "2626cf73-9de9-4b3e-bc5f-f3177b1945ae"
   },
   "outputs": [
    {
     "name": "stdout",
     "output_type": "stream",
     "text": [
      "Trong cột diaChi có 27702 biến object\n",
      "Trong cột Field_46 có 17903 biến object\n",
      "Trong cột Field_47 có 6 biến object\n",
      "Trong cột Field_48 có 15761 biến object\n",
      "Trong cột Field_56 có 1516 biến object\n",
      "Trong cột Field_61 có 37 biến object\n",
      "Trong cột Field_65 có 11 biến object\n",
      "Trong cột maCv có 4547 biến object\n",
      "Trong cột currentLocationCity có 1021 biến object\n",
      "Trong cột currentLocationCountry có 52 biến object\n",
      "Trong cột currentLocationName có 1276 biến object\n",
      "Trong cột brief có 21 biến object\n",
      "Trong cột sex có 3 biến object\n"
     ]
    }
   ],
   "source": [
    "for col_name in df.columns:\n",
    "    if df[col_name].dtypes == 'object':\n",
    "        unique_cat = len(df[col_name].unique())\n",
    "        print(\"Trong cột \" + str(col_name) + \" có \" + str(unique_cat) + \" biến object\")"
   ]
  },
  {
   "cell_type": "code",
   "execution_count": 15,
   "metadata": {
    "colab": {},
    "colab_type": "code",
    "executionInfo": {
     "elapsed": 18370,
     "status": "ok",
     "timestamp": 1598800090948,
     "user": {
      "displayName": "Phạm Trung Sơn",
      "photoUrl": "https://lh3.googleusercontent.com/a-/AOh14GhivTm8ZcFS0BQjWE0Qby3fHV5BvsKJbrV7y0AW=s64",
      "userId": "10175656038465513159"
     },
     "user_tz": -420
    },
    "id": "K_osizx3mqAI"
   },
   "outputs": [],
   "source": [
    "df = df.drop(columns=['diaChi', 'Field_46', 'Field_48', 'Field_56', 'currentLocationCity', 'maCv', 'currentLocationName'], axis=1)\n"
   ]
  },
  {
   "cell_type": "code",
   "execution_count": 16,
   "metadata": {
    "colab": {
     "base_uri": "https://localhost:8080/",
     "height": 34
    },
    "colab_type": "code",
    "executionInfo": {
     "elapsed": 18356,
     "status": "ok",
     "timestamp": 1598800090949,
     "user": {
      "displayName": "Phạm Trung Sơn",
      "photoUrl": "https://lh3.googleusercontent.com/a-/AOh14GhivTm8ZcFS0BQjWE0Qby3fHV5BvsKJbrV7y0AW=s64",
      "userId": "10175656038465513159"
     },
     "user_tz": -420
    },
    "id": "4_yKCBK1oOG0",
    "outputId": "5e489b76-763b-4b59-f701-d8aee6d18b4c"
   },
   "outputs": [
    {
     "data": {
      "text/plain": [
       "(73411, 55)"
      ]
     },
     "execution_count": 16,
     "metadata": {},
     "output_type": "execute_result"
    }
   ],
   "source": [
    "df.shape"
   ]
  },
  {
   "cell_type": "code",
   "execution_count": 17,
   "metadata": {
    "colab": {
     "base_uri": "https://localhost:8080/",
     "height": 119
    },
    "colab_type": "code",
    "executionInfo": {
     "elapsed": 18342,
     "status": "ok",
     "timestamp": 1598800090950,
     "user": {
      "displayName": "Phạm Trung Sơn",
      "photoUrl": "https://lh3.googleusercontent.com/a-/AOh14GhivTm8ZcFS0BQjWE0Qby3fHV5BvsKJbrV7y0AW=s64",
      "userId": "10175656038465513159"
     },
     "user_tz": -420
    },
    "id": "6TzYd4j3oUSM",
    "outputId": "c38a22e8-5ddf-408a-c559-1d52fae6a070"
   },
   "outputs": [
    {
     "name": "stdout",
     "output_type": "stream",
     "text": [
      "Trong cột Field_47 có 6 biến object\n",
      "Trong cột Field_61 có 37 biến object\n",
      "Trong cột Field_65 có 11 biến object\n",
      "Trong cột currentLocationCountry có 52 biến object\n",
      "Trong cột brief có 21 biến object\n",
      "Trong cột sex có 3 biến object\n"
     ]
    }
   ],
   "source": [
    "for col_name in df.columns:\n",
    "    if df[col_name].dtypes == 'object':\n",
    "        unique_cat = len(df[col_name].unique())\n",
    "        print(\"Trong cột \" + str(col_name) + \" có \" + str(unique_cat) + \" biến object\")"
   ]
  },
  {
   "cell_type": "code",
   "execution_count": 18,
   "metadata": {
    "colab": {},
    "colab_type": "code",
    "executionInfo": {
     "elapsed": 18327,
     "status": "ok",
     "timestamp": 1598800090950,
     "user": {
      "displayName": "Phạm Trung Sơn",
      "photoUrl": "https://lh3.googleusercontent.com/a-/AOh14GhivTm8ZcFS0BQjWE0Qby3fHV5BvsKJbrV7y0AW=s64",
      "userId": "10175656038465513159"
     },
     "user_tz": -420
    },
    "id": "9dfEel3bwpCB"
   },
   "outputs": [],
   "source": [
    "todummy_list = ['Field_47', 'Field_61', 'Field_65', 'currentLocationCountry', 'brief', 'sex']"
   ]
  },
  {
   "cell_type": "code",
   "execution_count": 19,
   "metadata": {
    "colab": {},
    "colab_type": "code",
    "executionInfo": {
     "elapsed": 18318,
     "status": "ok",
     "timestamp": 1598800090951,
     "user": {
      "displayName": "Phạm Trung Sơn",
      "photoUrl": "https://lh3.googleusercontent.com/a-/AOh14GhivTm8ZcFS0BQjWE0Qby3fHV5BvsKJbrV7y0AW=s64",
      "userId": "10175656038465513159"
     },
     "user_tz": -420
    },
    "id": "vMZxqg2GxAXQ"
   },
   "outputs": [],
   "source": [
    "def dummy_df(df, todummy_df):\n",
    "    for i in todummy_list:\n",
    "        dummies = pd.get_dummies(df[i], prefix=i, dummy_na=False)\n",
    "        df = df.drop(i, 1)\n",
    "        df = pd.concat([df, dummies], axis=1)\n",
    "    return df"
   ]
  },
  {
   "cell_type": "code",
   "execution_count": 20,
   "metadata": {
    "colab": {},
    "colab_type": "code",
    "executionInfo": {
     "elapsed": 18820,
     "status": "ok",
     "timestamp": 1598800091464,
     "user": {
      "displayName": "Phạm Trung Sơn",
      "photoUrl": "https://lh3.googleusercontent.com/a-/AOh14GhivTm8ZcFS0BQjWE0Qby3fHV5BvsKJbrV7y0AW=s64",
      "userId": "10175656038465513159"
     },
     "user_tz": -420
    },
    "id": "A1wbKpXDx3Ew"
   },
   "outputs": [],
   "source": [
    "df = dummy_df(df, todummy_list)"
   ]
  },
  {
   "cell_type": "code",
   "execution_count": 21,
   "metadata": {
    "colab": {
     "base_uri": "https://localhost:8080/",
     "height": 238
    },
    "colab_type": "code",
    "executionInfo": {
     "elapsed": 18810,
     "status": "ok",
     "timestamp": 1598800091465,
     "user": {
      "displayName": "Phạm Trung Sơn",
      "photoUrl": "https://lh3.googleusercontent.com/a-/AOh14GhivTm8ZcFS0BQjWE0Qby3fHV5BvsKJbrV7y0AW=s64",
      "userId": "10175656038465513159"
     },
     "user_tz": -420
    },
    "id": "l5_GOgMJyBPl",
    "outputId": "20b37406-9901-42d8-eb93-e605bfd34735"
   },
   "outputs": [
    {
     "name": "stdout",
     "output_type": "stream",
     "text": [
      "   id  label  Field_3  Field_19   Field_20  Field_23   Field_27  Field_28  \\\n",
      "0   0    1.0      1.0       0.0  4258600.0      16.0        0.0       0.0   \n",
      "1   1    0.0      NaN       NaN        NaN       NaN        NaN       NaN   \n",
      "2   2    0.0      2.0       0.0  5000000.0      10.0        0.0       0.0   \n",
      "3   3    0.0      NaN       NaN        NaN       NaN        NaN       NaN   \n",
      "4   4    1.0      NaN       NaN        NaN       NaN        NaN       NaN   \n",
      "5   5    0.0      NaN       NaN        NaN       NaN        NaN       NaN   \n",
      "6   6    0.0      2.0       0.0  3970000.0      33.0        0.0       0.0   \n",
      "7   7    1.0      2.0       0.0  1043000.0      30.0        0.0       0.0   \n",
      "8   8    0.0      1.0       0.0  1210000.0       0.0  1210000.0   54450.0   \n",
      "9   9    0.0      NaN       NaN        NaN       NaN        NaN       NaN   \n",
      "\n",
      "   Field_29  Field_39  ...  brief_7  brief_7cy  brief_8  brief_cb1  brief_cb2  \\\n",
      "0       0.0       1.0  ...        0          0        0          1          0   \n",
      "1       NaN       NaN  ...        0          0        0          0          0   \n",
      "2       0.0       1.0  ...        0          0        0          0          0   \n",
      "3       NaN       NaN  ...        0          0        0          0          0   \n",
      "4       NaN       NaN  ...        0          0        0          0          0   \n",
      "5       NaN       NaN  ...        0          0        0          0          0   \n",
      "6       0.0       1.0  ...        0          0        0          0          0   \n",
      "7       6.0       0.0  ...        0          0        0          0          0   \n",
      "8      12.0       0.0  ...        0          0        0          0          0   \n",
      "9       NaN       NaN  ...        0          0        0          0          0   \n",
      "\n",
      "   brief_cb3  brief_notfound  sex_female  sex_male  sex_nan  \n",
      "0          0               0           0         1        0  \n",
      "1          0               0           0         0        1  \n",
      "2          0               0           1         0        0  \n",
      "3          0               0           0         0        1  \n",
      "4          0               0           0         0        1  \n",
      "5          0               0           0         0        1  \n",
      "6          0               0           1         0        0  \n",
      "7          0               1           0         1        0  \n",
      "8          0               0           1         0        0  \n",
      "9          0               0           0         0        1  \n",
      "\n",
      "[10 rows x 174 columns]\n"
     ]
    }
   ],
   "source": [
    "print(df.head(10))"
   ]
  },
  {
   "cell_type": "markdown",
   "metadata": {
    "colab_type": "text",
    "id": "PiwR8EyuyW_f"
   },
   "source": [
    "## 2.2 Handling Mising Values"
   ]
  },
  {
   "cell_type": "code",
   "execution_count": 22,
   "metadata": {
    "colab": {
     "base_uri": "https://localhost:8080/",
     "height": 1000
    },
    "colab_type": "code",
    "executionInfo": {
     "elapsed": 18790,
     "status": "ok",
     "timestamp": 1598800091468,
     "user": {
      "displayName": "Phạm Trung Sơn",
      "photoUrl": "https://lh3.googleusercontent.com/a-/AOh14GhivTm8ZcFS0BQjWE0Qby3fHV5BvsKJbrV7y0AW=s64",
      "userId": "10175656038465513159"
     },
     "user_tz": -420
    },
    "id": "Pv1l-IpvycPl",
    "outputId": "eca2cc86-a76d-4bdd-ec95-1d3fbae36e1a"
   },
   "outputs": [
    {
     "name": "stdout",
     "output_type": "stream",
     "text": [
      "Có tất cả 174 cột.\n",
      "Trog đó có 46 cột bị thiếu data\n"
     ]
    },
    {
     "data": {
      "text/html": [
       "<div>\n",
       "<style scoped>\n",
       "    .dataframe tbody tr th:only-of-type {\n",
       "        vertical-align: middle;\n",
       "    }\n",
       "\n",
       "    .dataframe tbody tr th {\n",
       "        vertical-align: top;\n",
       "    }\n",
       "\n",
       "    .dataframe thead th {\n",
       "        text-align: right;\n",
       "    }\n",
       "</style>\n",
       "<table border=\"1\" class=\"dataframe\">\n",
       "  <thead>\n",
       "    <tr style=\"text-align: right;\">\n",
       "      <th></th>\n",
       "      <th>Miss</th>\n",
       "      <th>Per</th>\n",
       "    </tr>\n",
       "  </thead>\n",
       "  <tbody>\n",
       "    <tr>\n",
       "      <th>Field_74</th>\n",
       "      <td>44993</td>\n",
       "      <td>61.3</td>\n",
       "    </tr>\n",
       "    <tr>\n",
       "      <th>topFriends</th>\n",
       "      <td>44841</td>\n",
       "      <td>61.1</td>\n",
       "    </tr>\n",
       "    <tr>\n",
       "      <th>Field_75</th>\n",
       "      <td>41055</td>\n",
       "      <td>55.9</td>\n",
       "    </tr>\n",
       "    <tr>\n",
       "      <th>Field_76</th>\n",
       "      <td>41055</td>\n",
       "      <td>55.9</td>\n",
       "    </tr>\n",
       "    <tr>\n",
       "      <th>Field_77</th>\n",
       "      <td>41055</td>\n",
       "      <td>55.9</td>\n",
       "    </tr>\n",
       "    <tr>\n",
       "      <th>Field_64</th>\n",
       "      <td>40681</td>\n",
       "      <td>55.4</td>\n",
       "    </tr>\n",
       "    <tr>\n",
       "      <th>friendCount</th>\n",
       "      <td>40229</td>\n",
       "      <td>54.8</td>\n",
       "    </tr>\n",
       "    <tr>\n",
       "      <th>currentLocationLocationId</th>\n",
       "      <td>40229</td>\n",
       "      <td>54.8</td>\n",
       "    </tr>\n",
       "    <tr>\n",
       "      <th>subscriberCount</th>\n",
       "      <td>40229</td>\n",
       "      <td>54.8</td>\n",
       "    </tr>\n",
       "    <tr>\n",
       "      <th>currentLocationLatitude</th>\n",
       "      <td>40229</td>\n",
       "      <td>54.8</td>\n",
       "    </tr>\n",
       "    <tr>\n",
       "      <th>homeTownLocationId</th>\n",
       "      <td>40229</td>\n",
       "      <td>54.8</td>\n",
       "    </tr>\n",
       "    <tr>\n",
       "      <th>homeTownLatitude</th>\n",
       "      <td>40229</td>\n",
       "      <td>54.8</td>\n",
       "    </tr>\n",
       "    <tr>\n",
       "      <th>Field_69</th>\n",
       "      <td>39810</td>\n",
       "      <td>54.2</td>\n",
       "    </tr>\n",
       "    <tr>\n",
       "      <th>F_numOrg</th>\n",
       "      <td>39602</td>\n",
       "      <td>53.9</td>\n",
       "    </tr>\n",
       "    <tr>\n",
       "      <th>F_numQuery</th>\n",
       "      <td>39602</td>\n",
       "      <td>53.9</td>\n",
       "    </tr>\n",
       "    <tr>\n",
       "      <th>G_numOrg</th>\n",
       "      <td>39314</td>\n",
       "      <td>53.6</td>\n",
       "    </tr>\n",
       "    <tr>\n",
       "      <th>Field_60</th>\n",
       "      <td>38788</td>\n",
       "      <td>52.8</td>\n",
       "    </tr>\n",
       "    <tr>\n",
       "      <th>Field_3</th>\n",
       "      <td>38787</td>\n",
       "      <td>52.8</td>\n",
       "    </tr>\n",
       "    <tr>\n",
       "      <th>Field_71</th>\n",
       "      <td>38787</td>\n",
       "      <td>52.8</td>\n",
       "    </tr>\n",
       "    <tr>\n",
       "      <th>Field_72</th>\n",
       "      <td>38787</td>\n",
       "      <td>52.8</td>\n",
       "    </tr>\n",
       "    <tr>\n",
       "      <th>Field_70</th>\n",
       "      <td>38787</td>\n",
       "      <td>52.8</td>\n",
       "    </tr>\n",
       "    <tr>\n",
       "      <th>Field_67</th>\n",
       "      <td>38787</td>\n",
       "      <td>52.8</td>\n",
       "    </tr>\n",
       "    <tr>\n",
       "      <th>Field_63</th>\n",
       "      <td>38787</td>\n",
       "      <td>52.8</td>\n",
       "    </tr>\n",
       "    <tr>\n",
       "      <th>Field_59</th>\n",
       "      <td>38787</td>\n",
       "      <td>52.8</td>\n",
       "    </tr>\n",
       "    <tr>\n",
       "      <th>Field_58</th>\n",
       "      <td>38787</td>\n",
       "      <td>52.8</td>\n",
       "    </tr>\n",
       "    <tr>\n",
       "      <th>Field_39</th>\n",
       "      <td>38787</td>\n",
       "      <td>52.8</td>\n",
       "    </tr>\n",
       "    <tr>\n",
       "      <th>Field_29</th>\n",
       "      <td>38787</td>\n",
       "      <td>52.8</td>\n",
       "    </tr>\n",
       "    <tr>\n",
       "      <th>Field_28</th>\n",
       "      <td>38787</td>\n",
       "      <td>52.8</td>\n",
       "    </tr>\n",
       "    <tr>\n",
       "      <th>Field_27</th>\n",
       "      <td>38787</td>\n",
       "      <td>52.8</td>\n",
       "    </tr>\n",
       "    <tr>\n",
       "      <th>Field_23</th>\n",
       "      <td>38787</td>\n",
       "      <td>52.8</td>\n",
       "    </tr>\n",
       "    <tr>\n",
       "      <th>Field_20</th>\n",
       "      <td>38787</td>\n",
       "      <td>52.8</td>\n",
       "    </tr>\n",
       "    <tr>\n",
       "      <th>Field_19</th>\n",
       "      <td>38787</td>\n",
       "      <td>52.8</td>\n",
       "    </tr>\n",
       "    <tr>\n",
       "      <th>E_numOrg</th>\n",
       "      <td>38282</td>\n",
       "      <td>52.1</td>\n",
       "    </tr>\n",
       "    <tr>\n",
       "      <th>Field_79</th>\n",
       "      <td>34878</td>\n",
       "      <td>47.5</td>\n",
       "    </tr>\n",
       "    <tr>\n",
       "      <th>Field_81</th>\n",
       "      <td>23961</td>\n",
       "      <td>32.6</td>\n",
       "    </tr>\n",
       "    <tr>\n",
       "      <th>Field_80</th>\n",
       "      <td>23531</td>\n",
       "      <td>32.1</td>\n",
       "    </tr>\n",
       "    <tr>\n",
       "      <th>Field_78</th>\n",
       "      <td>23425</td>\n",
       "      <td>31.9</td>\n",
       "    </tr>\n",
       "    <tr>\n",
       "      <th>label</th>\n",
       "      <td>20381</td>\n",
       "      <td>27.8</td>\n",
       "    </tr>\n",
       "    <tr>\n",
       "      <th>A_numOrg</th>\n",
       "      <td>17364</td>\n",
       "      <td>23.7</td>\n",
       "    </tr>\n",
       "    <tr>\n",
       "      <th>numOrg</th>\n",
       "      <td>7402</td>\n",
       "      <td>10.1</td>\n",
       "    </tr>\n",
       "    <tr>\n",
       "      <th>partner0_A</th>\n",
       "      <td>7395</td>\n",
       "      <td>10.1</td>\n",
       "    </tr>\n",
       "    <tr>\n",
       "      <th>partner0_G</th>\n",
       "      <td>7395</td>\n",
       "      <td>10.1</td>\n",
       "    </tr>\n",
       "    <tr>\n",
       "      <th>partner1_A</th>\n",
       "      <td>7395</td>\n",
       "      <td>10.1</td>\n",
       "    </tr>\n",
       "    <tr>\n",
       "      <th>partner3_A</th>\n",
       "      <td>7395</td>\n",
       "      <td>10.1</td>\n",
       "    </tr>\n",
       "    <tr>\n",
       "      <th>partner3_D</th>\n",
       "      <td>7395</td>\n",
       "      <td>10.1</td>\n",
       "    </tr>\n",
       "    <tr>\n",
       "      <th>partner5_A</th>\n",
       "      <td>7395</td>\n",
       "      <td>10.1</td>\n",
       "    </tr>\n",
       "  </tbody>\n",
       "</table>\n",
       "</div>"
      ],
      "text/plain": [
       "                            Miss   Per\n",
       "Field_74                   44993  61.3\n",
       "topFriends                 44841  61.1\n",
       "Field_75                   41055  55.9\n",
       "Field_76                   41055  55.9\n",
       "Field_77                   41055  55.9\n",
       "Field_64                   40681  55.4\n",
       "friendCount                40229  54.8\n",
       "currentLocationLocationId  40229  54.8\n",
       "subscriberCount            40229  54.8\n",
       "currentLocationLatitude    40229  54.8\n",
       "homeTownLocationId         40229  54.8\n",
       "homeTownLatitude           40229  54.8\n",
       "Field_69                   39810  54.2\n",
       "F_numOrg                   39602  53.9\n",
       "F_numQuery                 39602  53.9\n",
       "G_numOrg                   39314  53.6\n",
       "Field_60                   38788  52.8\n",
       "Field_3                    38787  52.8\n",
       "Field_71                   38787  52.8\n",
       "Field_72                   38787  52.8\n",
       "Field_70                   38787  52.8\n",
       "Field_67                   38787  52.8\n",
       "Field_63                   38787  52.8\n",
       "Field_59                   38787  52.8\n",
       "Field_58                   38787  52.8\n",
       "Field_39                   38787  52.8\n",
       "Field_29                   38787  52.8\n",
       "Field_28                   38787  52.8\n",
       "Field_27                   38787  52.8\n",
       "Field_23                   38787  52.8\n",
       "Field_20                   38787  52.8\n",
       "Field_19                   38787  52.8\n",
       "E_numOrg                   38282  52.1\n",
       "Field_79                   34878  47.5\n",
       "Field_81                   23961  32.6\n",
       "Field_80                   23531  32.1\n",
       "Field_78                   23425  31.9\n",
       "label                      20381  27.8\n",
       "A_numOrg                   17364  23.7\n",
       "numOrg                      7402  10.1\n",
       "partner0_A                  7395  10.1\n",
       "partner0_G                  7395  10.1\n",
       "partner1_A                  7395  10.1\n",
       "partner3_A                  7395  10.1\n",
       "partner3_D                  7395  10.1\n",
       "partner5_A                  7395  10.1"
      ]
     },
     "execution_count": 22,
     "metadata": {},
     "output_type": "execute_result"
    }
   ],
   "source": [
    "miss = missing_value(df)\n",
    "miss"
   ]
  },
  {
   "cell_type": "code",
   "execution_count": 23,
   "metadata": {
    "colab": {
     "base_uri": "https://localhost:8080/",
     "height": 102
    },
    "colab_type": "code",
    "executionInfo": {
     "elapsed": 22667,
     "status": "ok",
     "timestamp": 1598800095360,
     "user": {
      "displayName": "Phạm Trung Sơn",
      "photoUrl": "https://lh3.googleusercontent.com/a-/AOh14GhivTm8ZcFS0BQjWE0Qby3fHV5BvsKJbrV7y0AW=s64",
      "userId": "10175656038465513159"
     },
     "user_tz": -420
    },
    "id": "0WvJrWc9z1m8",
    "outputId": "a67b53bc-d640-4c11-c8bd-bd6aa4456f13"
   },
   "outputs": [
    {
     "name": "stdout",
     "output_type": "stream",
     "text": [
      "Collecting scikit-learn\n",
      "  Downloading scikit_learn-0.23.2-cp37-cp37m-win_amd64.whl (6.8 MB)\n",
      "Requirement already satisfied, skipping upgrade: joblib>=0.11 in c:\\users\\ut luom\\anaconda3\\lib\\site-packages (from scikit-learn) (0.14.1)\n",
      "Requirement already satisfied, skipping upgrade: scipy>=0.19.1 in c:\\users\\ut luom\\anaconda3\\lib\\site-packages (from scikit-learn) (1.4.1)\n",
      "Requirement already satisfied, skipping upgrade: threadpoolctl>=2.0.0 in c:\\users\\ut luom\\anaconda3\\lib\\site-packages (from scikit-learn) (2.1.0)\n",
      "Requirement already satisfied, skipping upgrade: numpy>=1.13.3 in c:\\users\\ut luom\\anaconda3\\lib\\site-packages (from scikit-learn) (1.19.0)\n",
      "Installing collected packages: scikit-learn\n",
      "  Attempting uninstall: scikit-learn\n",
      "    Found existing installation: scikit-learn 0.23.1\n",
      "    Uninstalling scikit-learn-0.23.1:\n",
      "      Successfully uninstalled scikit-learn-0.23.1\n"
     ]
    },
    {
     "name": "stderr",
     "output_type": "stream",
     "text": [
      "ERROR: Could not install packages due to an EnvironmentError: [WinError 145] The directory is not empty: 'c:\\\\users\\\\ut luom\\\\anaconda3\\\\lib\\\\site-packages\\\\~-learn\\\\mixture\\\\tests'\n",
      "\n"
     ]
    }
   ],
   "source": [
    "!pip install -U scikit-learn"
   ]
  },
  {
   "cell_type": "code",
   "execution_count": 24,
   "metadata": {
    "colab": {},
    "colab_type": "code",
    "executionInfo": {
     "elapsed": 24383,
     "status": "ok",
     "timestamp": 1598800097090,
     "user": {
      "displayName": "Phạm Trung Sơn",
      "photoUrl": "https://lh3.googleusercontent.com/a-/AOh14GhivTm8ZcFS0BQjWE0Qby3fHV5BvsKJbrV7y0AW=s64",
      "userId": "10175656038465513159"
     },
     "user_tz": -420
    },
    "id": "I-fqtugaytqg"
   },
   "outputs": [],
   "source": [
    "from sklearn.impute import SimpleImputer\n",
    "\n",
    "imp = SimpleImputer(strategy='median')\n",
    "imp.fit(df)\n",
    "df = pd.DataFrame(data=imp.transform(df), columns=df.columns)"
   ]
  },
  {
   "cell_type": "code",
   "execution_count": 25,
   "metadata": {
    "colab": {
     "base_uri": "https://localhost:8080/",
     "height": 83
    },
    "colab_type": "code",
    "executionInfo": {
     "elapsed": 24381,
     "status": "ok",
     "timestamp": 1598800097099,
     "user": {
      "displayName": "Phạm Trung Sơn",
      "photoUrl": "https://lh3.googleusercontent.com/a-/AOh14GhivTm8ZcFS0BQjWE0Qby3fHV5BvsKJbrV7y0AW=s64",
      "userId": "10175656038465513159"
     },
     "user_tz": -420
    },
    "id": "sTFol3UD3j-K",
    "outputId": "ccab2b30-8d4e-4851-cf9c-78ed47b53ad6"
   },
   "outputs": [
    {
     "name": "stdout",
     "output_type": "stream",
     "text": [
      "Có tất cả 174 cột.\n",
      "Trog đó có 0 cột bị thiếu data\n"
     ]
    },
    {
     "data": {
      "text/html": [
       "<div>\n",
       "<style scoped>\n",
       "    .dataframe tbody tr th:only-of-type {\n",
       "        vertical-align: middle;\n",
       "    }\n",
       "\n",
       "    .dataframe tbody tr th {\n",
       "        vertical-align: top;\n",
       "    }\n",
       "\n",
       "    .dataframe thead th {\n",
       "        text-align: right;\n",
       "    }\n",
       "</style>\n",
       "<table border=\"1\" class=\"dataframe\">\n",
       "  <thead>\n",
       "    <tr style=\"text-align: right;\">\n",
       "      <th></th>\n",
       "      <th>Miss</th>\n",
       "      <th>Per</th>\n",
       "    </tr>\n",
       "  </thead>\n",
       "  <tbody>\n",
       "  </tbody>\n",
       "</table>\n",
       "</div>"
      ],
      "text/plain": [
       "Empty DataFrame\n",
       "Columns: [Miss, Per]\n",
       "Index: []"
      ]
     },
     "execution_count": 25,
     "metadata": {},
     "output_type": "execute_result"
    }
   ],
   "source": [
    "missing = missing_value(df)\n",
    "missing"
   ]
  },
  {
   "cell_type": "code",
   "execution_count": 26,
   "metadata": {
    "colab": {},
    "colab_type": "code",
    "executionInfo": {
     "elapsed": 24372,
     "status": "ok",
     "timestamp": 1598800097103,
     "user": {
      "displayName": "Phạm Trung Sơn",
      "photoUrl": "https://lh3.googleusercontent.com/a-/AOh14GhivTm8ZcFS0BQjWE0Qby3fHV5BvsKJbrV7y0AW=s64",
      "userId": "10175656038465513159"
     },
     "user_tz": -420
    },
    "id": "ewoR92aX4dRl"
   },
   "outputs": [],
   "source": [
    "from itertools import combinations\n",
    "from sklearn.preprocessing import PolynomialFeatures\n",
    "\n",
    "def add_interactions(df):\n",
    "    # Get feature names\n",
    "    combos = list(combinations(list(df.columns), 2))\n",
    "    colnames = list(df.columns) + ['_'.join(x) for x in combos]\n",
    "    \n",
    "    # Find interactions\n",
    "    poly = PolynomialFeatures(interaction_only=True, include_bias=False)\n",
    "    df = poly.fit_transform(df)\n",
    "    df = pd.DataFrame(df)\n",
    "    df.columns = colnames\n",
    "    \n",
    "    # Remove interaction terms with all 0 values            \n",
    "    noint_indicies = [i for i, x in enumerate(list((df == 0).all())) if x]\n",
    "    df = df.drop(df.columns[noint_indicies], axis=1)\n",
    "    \n",
    "    return df"
   ]
  },
  {
   "cell_type": "code",
   "execution_count": 27,
   "metadata": {
    "colab": {},
    "colab_type": "code",
    "id": "teaOhTk44ewg"
   },
   "outputs": [
    {
     "ename": "MemoryError",
     "evalue": "Unable to allocate 8.33 GiB for an array with shape (73411, 15225) and data type float64",
     "output_type": "error",
     "traceback": [
      "\u001b[1;31m---------------------------------------------------------------------------\u001b[0m",
      "\u001b[1;31mMemoryError\u001b[0m                               Traceback (most recent call last)",
      "\u001b[1;32m<ipython-input-27-dd47e17b7ff2>\u001b[0m in \u001b[0;36m<module>\u001b[1;34m\u001b[0m\n\u001b[1;32m----> 1\u001b[1;33m \u001b[0mdf\u001b[0m \u001b[1;33m=\u001b[0m \u001b[0madd_interactions\u001b[0m\u001b[1;33m(\u001b[0m\u001b[0mdf\u001b[0m\u001b[1;33m)\u001b[0m\u001b[1;33m\u001b[0m\u001b[1;33m\u001b[0m\u001b[0m\n\u001b[0m\u001b[0;32m      2\u001b[0m \u001b[0mprint\u001b[0m\u001b[1;33m(\u001b[0m\u001b[0mdf\u001b[0m\u001b[1;33m.\u001b[0m\u001b[0mhead\u001b[0m\u001b[1;33m(\u001b[0m\u001b[1;36m5\u001b[0m\u001b[1;33m)\u001b[0m\u001b[1;33m)\u001b[0m\u001b[1;33m\u001b[0m\u001b[1;33m\u001b[0m\u001b[0m\n",
      "\u001b[1;32m<ipython-input-26-8f9946a6af13>\u001b[0m in \u001b[0;36madd_interactions\u001b[1;34m(df)\u001b[0m\n\u001b[0;32m      9\u001b[0m     \u001b[1;31m# Find interactions\u001b[0m\u001b[1;33m\u001b[0m\u001b[1;33m\u001b[0m\u001b[1;33m\u001b[0m\u001b[0m\n\u001b[0;32m     10\u001b[0m     \u001b[0mpoly\u001b[0m \u001b[1;33m=\u001b[0m \u001b[0mPolynomialFeatures\u001b[0m\u001b[1;33m(\u001b[0m\u001b[0minteraction_only\u001b[0m\u001b[1;33m=\u001b[0m\u001b[1;32mTrue\u001b[0m\u001b[1;33m,\u001b[0m \u001b[0minclude_bias\u001b[0m\u001b[1;33m=\u001b[0m\u001b[1;32mFalse\u001b[0m\u001b[1;33m)\u001b[0m\u001b[1;33m\u001b[0m\u001b[1;33m\u001b[0m\u001b[0m\n\u001b[1;32m---> 11\u001b[1;33m     \u001b[0mdf\u001b[0m \u001b[1;33m=\u001b[0m \u001b[0mpoly\u001b[0m\u001b[1;33m.\u001b[0m\u001b[0mfit_transform\u001b[0m\u001b[1;33m(\u001b[0m\u001b[0mdf\u001b[0m\u001b[1;33m)\u001b[0m\u001b[1;33m\u001b[0m\u001b[1;33m\u001b[0m\u001b[0m\n\u001b[0m\u001b[0;32m     12\u001b[0m     \u001b[0mdf\u001b[0m \u001b[1;33m=\u001b[0m \u001b[0mpd\u001b[0m\u001b[1;33m.\u001b[0m\u001b[0mDataFrame\u001b[0m\u001b[1;33m(\u001b[0m\u001b[0mdf\u001b[0m\u001b[1;33m)\u001b[0m\u001b[1;33m\u001b[0m\u001b[1;33m\u001b[0m\u001b[0m\n\u001b[0;32m     13\u001b[0m     \u001b[0mdf\u001b[0m\u001b[1;33m.\u001b[0m\u001b[0mcolumns\u001b[0m \u001b[1;33m=\u001b[0m \u001b[0mcolnames\u001b[0m\u001b[1;33m\u001b[0m\u001b[1;33m\u001b[0m\u001b[0m\n",
      "\u001b[1;32m~\\anaconda3\\lib\\site-packages\\sklearn\\base.py\u001b[0m in \u001b[0;36mfit_transform\u001b[1;34m(self, X, y, **fit_params)\u001b[0m\n\u001b[0;32m    688\u001b[0m         \u001b[1;32mif\u001b[0m \u001b[0my\u001b[0m \u001b[1;32mis\u001b[0m \u001b[1;32mNone\u001b[0m\u001b[1;33m:\u001b[0m\u001b[1;33m\u001b[0m\u001b[1;33m\u001b[0m\u001b[0m\n\u001b[0;32m    689\u001b[0m             \u001b[1;31m# fit method of arity 1 (unsupervised transformation)\u001b[0m\u001b[1;33m\u001b[0m\u001b[1;33m\u001b[0m\u001b[1;33m\u001b[0m\u001b[0m\n\u001b[1;32m--> 690\u001b[1;33m             \u001b[1;32mreturn\u001b[0m \u001b[0mself\u001b[0m\u001b[1;33m.\u001b[0m\u001b[0mfit\u001b[0m\u001b[1;33m(\u001b[0m\u001b[0mX\u001b[0m\u001b[1;33m,\u001b[0m \u001b[1;33m**\u001b[0m\u001b[0mfit_params\u001b[0m\u001b[1;33m)\u001b[0m\u001b[1;33m.\u001b[0m\u001b[0mtransform\u001b[0m\u001b[1;33m(\u001b[0m\u001b[0mX\u001b[0m\u001b[1;33m)\u001b[0m\u001b[1;33m\u001b[0m\u001b[1;33m\u001b[0m\u001b[0m\n\u001b[0m\u001b[0;32m    691\u001b[0m         \u001b[1;32melse\u001b[0m\u001b[1;33m:\u001b[0m\u001b[1;33m\u001b[0m\u001b[1;33m\u001b[0m\u001b[0m\n\u001b[0;32m    692\u001b[0m             \u001b[1;31m# fit method of arity 2 (supervised transformation)\u001b[0m\u001b[1;33m\u001b[0m\u001b[1;33m\u001b[0m\u001b[1;33m\u001b[0m\u001b[0m\n",
      "\u001b[1;32m~\\anaconda3\\lib\\site-packages\\sklearn\\preprocessing\\_data.py\u001b[0m in \u001b[0;36mtransform\u001b[1;34m(self, X)\u001b[0m\n\u001b[0;32m   1592\u001b[0m             \u001b[1;32melse\u001b[0m\u001b[1;33m:\u001b[0m\u001b[1;33m\u001b[0m\u001b[1;33m\u001b[0m\u001b[0m\n\u001b[0;32m   1593\u001b[0m                 XP = np.empty((n_samples, self.n_output_features_),\n\u001b[1;32m-> 1594\u001b[1;33m                               dtype=X.dtype, order=self.order)\n\u001b[0m\u001b[0;32m   1595\u001b[0m \u001b[1;33m\u001b[0m\u001b[0m\n\u001b[0;32m   1596\u001b[0m                 \u001b[1;31m# What follows is a faster implementation of:\u001b[0m\u001b[1;33m\u001b[0m\u001b[1;33m\u001b[0m\u001b[1;33m\u001b[0m\u001b[0m\n",
      "\u001b[1;31mMemoryError\u001b[0m: Unable to allocate 8.33 GiB for an array with shape (73411, 15225) and data type float64"
     ]
    }
   ],
   "source": [
    "df = add_interactions(df)\n",
    "print(df.head(5))"
   ]
  }
 ],
 "metadata": {
  "colab": {
   "authorship_tag": "ABX9TyOzjv2EaaBtxdu1tlJih/QF",
   "mount_file_id": "1iVs1nN4MDSNHZbiV9dCekygNBlUDApkQ",
   "name": "kalapa-version-III.ipynb",
   "provenance": []
  },
  "kernelspec": {
   "display_name": "Python 3",
   "language": "python",
   "name": "python3"
  },
  "language_info": {
   "codemirror_mode": {
    "name": "ipython",
    "version": 3
   },
   "file_extension": ".py",
   "mimetype": "text/x-python",
   "name": "python",
   "nbconvert_exporter": "python",
   "pygments_lexer": "ipython3",
   "version": "3.7.6"
  }
 },
 "nbformat": 4,
 "nbformat_minor": 1
}
